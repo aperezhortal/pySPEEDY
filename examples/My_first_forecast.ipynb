{
 "cells": [
  {
   "cell_type": "markdown",
   "id": "ac7739a9-bfb9-43a5-92bb-9ae77d49337c",
   "metadata": {},
   "source": [
    "# My first speedy forecast\n",
    "\n",
    "## Short description of the SPEEDY model\n",
    "\n",
    "SPEEDY is an atmospheric global circulation model that uses the spectral dynamical core developed\n",
    "at the Geophysical Fluid Dynamics Laboratory.\n",
    "Its main characteristics are:\n",
    "- A spectral-transform model in the vorticity-divergence form with a semi-implicit treatment of gravity waves.\n",
    "- Hydrostatic σ-coordinate in the vertical coordinate.\n",
    "- The principal model prognostic variables are vorticity, divergence, temperature, and the logarithm of surface pressure.\n",
    "- Humidity is advected by the dynamical core, and with its sources and sinks are determined physical parametrizations.\n",
    "- The horizontal resolution corresponds to a triangular spectral truncation at total wavenumber 30 (T30, approximately 3.75 x 3.75 degree resolution). This corresponds to a [Gaussian grid](https://en.wikipedia.org/wiki/Gaussian_grid) of 96 (longitude) by 48 (latitude) points. \n",
    "- For the vertical coordinate, eight levels are used with boundaries at σ values of 0, 0.05, 0.14, 0.26, 0.42, 0.60, 0.77, 0.90 and 1.\n",
    "  The prognostic variables (except log(ps)) are specified at the σ levels in between the latter boundaries, namely at \n",
    "  σ 0.025, 0.095, 0.20, 0.34, 0.51, 0.685, 0.835 and 0.9\n",
    "- Time step: 40min. That is, 36 time steps per day.\n",
    "\n",
    "For additional details, check the SPEEDY documentation [here](http://users.ictp.it/~kucharsk/speedy_description/km_ver41_appendixA.pdf).\n",
    "\n",
    "## The boundary conditions \n",
    "\n",
    "The boundary conditions needed to run SPEEDY are:\n",
    "\n",
    "- Time invariant fields (lon, lat):\n",
    "    - orog: Orographic height [m]\n",
    "    - lsm: Land sea mask fraction. Values between 0 and 1.\n",
    "    - vegl: Low vegetation cover (fraction). Values between 0 and 1.\n",
    "    - vegh: High vegetation cover (fraction). Values between 0 and 1.\n",
    "    - alb: Annual-mean albedo (fraction). Values between 0 and 1.\n",
    "- Monthly-average climatological fiel for each month of the year (lon, lat, month):\n",
    "    - stl: Land surface temp (top-layer) [degK].\n",
    "    - snowd: Snow depth [kg/m2]\n",
    "    - swl1: Soil wetness (layer 1) [vol. fraction, 0-1]\n",
    "    - swl2: Soil wetness (layer 2) [vol. fraction, 0-1]\n",
    "    - swl3: Soil wetness (layer 3) [vol. fraction, 0-1]\n",
    "    - icec: Sea-ice concentration (fraction). Values between 0 and 1.\n",
    "    - sst: Sea surface temperature [degK].\n",
    "- Anomaly fields (lon, lat, day):\n",
    "    - ssta: Sea surface temperature anomaly [degK].\n",
    "\n",
    "The exact shapes for the invariant fields are `(lon, lat, month) = (96, 48, 12)`. In contrast, the anomaly field (SST anomaly) needs to be provided for each day of the simulation period. For example, for a one-month forecast (30 days), the shape of the anomaly field is (96, 48, 30).\n",
    "\n",
    "By default, the pySPEEDY package includes the example boundary conditions initially included in the SPEEDY.f90 package. \n",
    "These fields were derived from the ERA-interim re-analysis using the 1979-2008 period. \n",
    "In addition, the default boundary conditions include the monthly SST anomalies for the 1979-01-01 to 2013-12-01 period.\n",
    "\n",
    "## The initial conditions\n",
    "\n",
    "The current version of pySPEEDY initializes all spectral variables at a reference atmosphere at rest with the following properties:\n",
    "Troposphere: T = 288°K at the surface. Constant temperature lapse rate.\n",
    "Stratosphere: T = 216 °K, lapse rate = 0.\n",
    "Pressure field consistent with the temperature field.\n",
    "Humidity: qv = RHref * q_saturation(288K, 1013hPa) with RHref=0.7.\n",
    "For this initialization, the following spectral variables are initialized:\n",
    "- \"vor [mx, nx, levels, 2]\": Vorticity in the spectral space. Complex.\n",
    "- \"div [mx, nx, levels, 2]\": Divergence in the spectral space. Complex.\n",
    "- \"t [mx, nx, levels, 2]\": Temperature in the spectral space. Complex.\n",
    "- \"ps [mx, nx, 2]\": Log of (normalised) surface pressure.\n",
    "- \"phi [mx, nx, levels]\": Atmospheric geopotential. Real.\n",
    "- \"phis [mx, nx]\": Surface geopotential. Real.\n",
    "- \"tr [mx, nx, levels, 2, ntr]\": Tracers. Currently, it only contains humidity. Real.\n",
    "\n",
    "where mx=31, nx=32, levels=8, ntr=1 (number of tracers).\n",
    "The \"2\" in the last dimension indicates that the variable is complex (0-real/1-imaginary)."
   ]
  },
  {
   "cell_type": "markdown",
   "id": "53703cdc",
   "metadata": {
    "pycharm": {
     "name": "#%% md\n"
    }
   },
   "source": [
    "### Google colab fix\n",
    "\n",
    "***IMPORTANT***\n",
    "\n",
    "If you are running this notebook in Google Colab, uncomment and execute\n",
    "the following lines to install pySPEEDY and its dependencies.\n"
   ]
  },
  {
   "cell_type": "code",
   "execution_count": null,
   "id": "62c8a303",
   "metadata": {
    "pycharm": {
     "name": "#%%\n"
    }
   },
   "outputs": [],
   "source": [
    "# !apt-get install libproj-dev proj-data proj-bin\n",
    "# !apt-get install libgeos-dev libnetcdf-dev libnetcdff-dev\n",
    "\n",
    "# !pip uninstall --yes shapely\n",
    "# !pip install shapely --no-binary shapely\n",
    "# !pip install cartopy"
   ]
  },
  {
   "cell_type": "markdown",
   "id": "7e27a1ea",
   "metadata": {
    "pycharm": {
     "name": "#%% md\n"
    }
   },
   "source": [
    "Temporary fix for https://github.com/SciTools/cartopy/issues/1869 proposed by @rcomer"
   ]
  },
  {
   "cell_type": "code",
   "execution_count": null,
   "id": "d035e2ff",
   "metadata": {
    "pycharm": {
     "name": "#%%\n"
    }
   },
   "outputs": [],
   "source": [
    "# !wget https://raw.githubusercontent.com/SciTools/cartopy/master/tools/cartopy_feature_download.py\n",
    "# !python cartopy_feature_download.py physical"
   ]
  },
  {
   "cell_type": "markdown",
   "id": "94199bd5",
   "metadata": {
    "pycharm": {
     "name": "#%% md\n"
    }
   },
   "source": [
    "Now we install pySPEEDY"
   ]
  },
  {
   "cell_type": "code",
   "execution_count": null,
   "id": "1909ad07",
   "metadata": {
    "pycharm": {
     "name": "#%%\n"
    }
   },
   "outputs": [],
   "source": [
    "#!pip install -v git+https://github.com/aperezhortal/pySPEEDY.git"
   ]
  },
  {
   "cell_type": "markdown",
   "id": "ae4d7b3b",
   "metadata": {
    "pycharm": {
     "name": "#%% md\n"
    }
   },
   "source": [
    "End of Colab setup.\n",
    "\n",
    "### My first forecast\n",
    "\n",
    "Let's run our first forecast. In the following example we will run the forecast for 3 months starting from a rest atmosphere. \n",
    "The first month will be considered as the model spinup period over which the model outputs are not saved. "
   ]
  },
  {
   "cell_type": "code",
   "execution_count": null,
   "id": "9595dbb8-2ec2-43bd-b688-1c5bdc95cc53",
   "metadata": {},
   "outputs": [],
   "source": [
    "%%time\n",
    "from datetime import datetime\n",
    "\n",
    "from pyspeedy import Speedy\n",
    "from pyspeedy.callbacks import ModelCheckpoint, XarrayExporter\n",
    "\n",
    "start_date = datetime(1980, 1, 1)  # Simulation start date (datetime object).\n",
    "end_date = datetime(1980, 2, 29)  # Simulation end date.\n",
    "spinup_date = datetime(1980, 2, 1)  # End of spinup period.\n",
    "\n",
    "# Create an instance of the speedy model.\n",
    "model = Speedy(\n",
    "    start_date=start_date,  # Simulation start date (datetime object).\n",
    "    end_date=end_date,  # Simulation end date.\n",
    ")\n",
    "# At this point, the model state is \"empty\".\n",
    "\n",
    "# To initialize the model, we need to define its boundary conditions first.\n",
    "# This function will set the default boundary conditions derived from the ERA reanalysis.\n",
    "model.set_bc()\n",
    "\n",
    "# Before running the model, let's initialize two callback functions that\n",
    "\n",
    "# Initialize the callback functions that saves the model data into netcdf files\n",
    "# A \"callback\" is an object that performs user defined actions at each time step.\n",
    "my_exporter = XarrayExporter(\n",
    "    output_dir=\"./data\",  # Output directory where the model output will be stored\n",
    "    interval=36,  # Every how many time steps we will save the output file. 36 -> once per day.\n",
    "    verbose=True,  # Prind progress messages\n",
    "    variables=None,  # Which variables to output. If none, save the most commonly used variables.\n",
    "    spinup_date=spinup_date,  # End of spinup period\n",
    ")\n",
    "\n",
    "# Let's initialized another callback. This one keeps a dataframe with selected variables\n",
    "# with different model times (\"checkpoints\").\n",
    "# The dataframe with the data is stored in the \"dataframe\" attribute of the\n",
    "# created ModelCheckpoint instance.\n",
    "model_checkpoints = ModelCheckpoint(\n",
    "    interval=36,  # Every how many time steps we will save the output file. 36 -> once per day.\n",
    "    verbose=True,  # Prind progress messages\n",
    "    variables=None,  # Which variables to output. If none, save the most commonly used variables.\n",
    "    spinup_date=spinup_date,  # End of spinup period\n",
    ")\n",
    "\n",
    "\n",
    "# Print the names of output variables that will be saved.\n",
    "# Note that the variables shown next are in the grid space (not the spectral space)\n",
    "print(\"Exported variables:\")\n",
    "print(my_exporter.variables)\n",
    "\n",
    "# Run the model. We pass the a list of callbacks\n",
    "model.run(callbacks=[my_exporter, model_checkpoints])\n",
    "# After the model is run, the model state will keep the last values of the last integration step."
   ]
  },
  {
   "cell_type": "markdown",
   "id": "fa310cb8-668a-4472-a073-d8c9f3a935cb",
   "metadata": {},
   "source": [
    "The time series of the selected variables are stored in a dataframe inside the `model_checkpoints` object that we pass as a callback to the model run."
   ]
  },
  {
   "cell_type": "code",
   "execution_count": null,
   "id": "6155dbc1-2aea-4726-b382-44420260cb68",
   "metadata": {},
   "outputs": [],
   "source": [
    "# Check the stored dataframe in the model checkout callback.\n",
    "model_checkpoints.dataframe"
   ]
  },
  {
   "cell_type": "markdown",
   "id": "8d90ef9a-ec3a-46b5-ad2f-5129869d125c",
   "metadata": {},
   "source": [
    "Note that the dimensions in the dataframe were reordered to follow the conventions typically used in NWP model outputs.\n",
    "This ordering differs from the internal dimension ordering use by the the underlying SPEEDY.90 (state variables).\n",
    "\n",
    "For convenience, all the state variables in the SPEEDY.90 model can be accessed from python using items getters and setters.\n",
    "\n",
    "For example, the model latitude and longitude can be accessed as `model[\"lat\"]` or `model[\"lon\"]`.\n",
    "Similarly, to update the value of, let's say, temperature in the grid space, we use: `model[t_grid]=new_t_grid_array`\n",
    "\n",
    "A complete description of the state variables that can be accessed through python are listed in [this table](https://pyspeedy.readthedocs.io/en/latest/model_state_def.html)."
   ]
  },
  {
   "cell_type": "markdown",
   "id": "41c74825-ff3b-4dba-b4f2-c5de803dede6",
   "metadata": {},
   "source": [
    "## The model grid\n",
    "\n",
    "Let's plot the model grid first to visualize the model's resolution."
   ]
  },
  {
   "cell_type": "code",
   "execution_count": null,
   "id": "ff493555-6771-43ab-afb0-ddb9afcde654",
   "metadata": {},
   "outputs": [],
   "source": [
    "import cartopy.crs as ccrs\n",
    "import matplotlib\n",
    "import matplotlib.pyplot as plt\n",
    "import numpy as np\n",
    "from cartopy.feature import OCEAN\n",
    "\n",
    "fig = plt.figure(figsize=(15, 10))\n",
    "ax = plt.subplot(projection=ccrs.PlateCarree())\n",
    "\n",
    "longitude_2D, latitude_2D = np.meshgrid(model[\"lon\"], model[\"lat\"])\n",
    "ax.set_title(\"SPEEDY Gaussian grid\")  # Add title for each subplot.\n",
    "ax.set_global()  # Set global extention\n",
    "ax.coastlines()  # Add coastlines\n",
    "ax.add_feature(OCEAN)  # Add oceans\n",
    "_ = ax.scatter(\n",
    "    longitude_2D, latitude_2D, s=4, c=\"red\", marker=\"o\", transform=ccrs.PlateCarree()\n",
    ")"
   ]
  },
  {
   "cell_type": "markdown",
   "id": "50c5f504-aa00-4eea-8ee3-b12dcbd5f532",
   "metadata": {},
   "source": [
    "Now let's plots some prognostic variables at the surface."
   ]
  },
  {
   "cell_type": "code",
   "execution_count": null,
   "id": "92f34bee-2948-42f6-8263-4aa822a09be3",
   "metadata": {
    "tags": [
     "nbsphinx-thumbnail"
    ]
   },
   "outputs": [],
   "source": [
    "from cartopy.util import add_cyclic_point\n",
    "\n",
    "# The shape of the t_grid field is ['lon', 'lat', 'lev']\n",
    "# The vertical dimension is sorted in decreasing height.\n",
    "# That means that the [:,:,0] indicates the highest level, while [:,:,1] indicate the lowest level.\n",
    "# For the temperature field we will plot the lowest level (surface).\n",
    "# The shape of the ps_grid is ['lon', 'lat']\n",
    "\n",
    "variables_to_plot = [\n",
    "    # (model_variable_name, variable long name)\n",
    "    (\n",
    "        \"t_grid\",\n",
    "        \"Temperature\",\n",
    "        \"[C]\",\n",
    "    ),  # Surface temperature in Kelvin degrees (in the grid space).\n",
    "    (\"ps_grid\", \"Pressure\", \"[hPa]\"),  # Surface pressure\n",
    "]\n",
    "\n",
    "fig, axs = plt.subplots(\n",
    "    2, 1, subplot_kw=dict(projection=ccrs.PlateCarree()), figsize=(10, 8)\n",
    ")\n",
    "\n",
    "lon = model[\"lon\"]\n",
    "lat = model[\"lat\"]\n",
    "\n",
    "for i, (var, title, units) in enumerate(variables_to_plot):\n",
    "    ax = axs[i]\n",
    "    plt.sca(ax)\n",
    "\n",
    "    ax.set_title(title)  # Add title for each subplot.\n",
    "    ax.set_global()  # Set global extention\n",
    "    ax.coastlines()  # Add coastlines\n",
    "    ax.add_feature(OCEAN)  # Add oceans\n",
    "\n",
    "    data_to_plot = model[var]\n",
    "    if var == \"t_grid\":\n",
    "        # data_to_plot has [lon, lat, lev] dimensions.\n",
    "        data_to_plot = data_to_plot[:, :, -1]  # Keep the lowest level\n",
    "        data_to_plot -= 273.15\n",
    "    elif var == \"ps_grid\":\n",
    "        data_to_plot /= 100\n",
    "\n",
    "    # Copy the longitude=0 degrees data to longitude=360 to have continuous plots\n",
    "    data_to_plot, lon = add_cyclic_point(data_to_plot, coord=model[\"lon\"], axis=0)\n",
    "    lat = model[\"lat\"]\n",
    "    cs = ax.pcolormesh(\n",
    "        lon,\n",
    "        model[\"lat\"],\n",
    "        data_to_plot.T,\n",
    "        transform=ccrs.PlateCarree(),\n",
    "        cmap=\"jet\",\n",
    "        shading=\"auto\",\n",
    "    )\n",
    "    cbar = plt.colorbar(cs, label=f\"{title} {units}\")\n",
    "_ = plt.subplots_adjust(wspace=0.05)"
   ]
  },
  {
   "cell_type": "markdown",
   "id": "697b69bc-640b-495b-a028-b4a6694ba1db",
   "metadata": {},
   "source": [
    "TO BE CONTINUED"
   ]
  },
  {
   "cell_type": "code",
   "execution_count": null,
   "id": "eabeb4ba-63fc-4f40-a028-8671668e77d3",
   "metadata": {},
   "outputs": [],
   "source": []
  }
 ],
 "metadata": {
  "kernelspec": {
   "display_name": "Python 3 (ipykernel)",
   "language": "python",
   "name": "python3"
  },
  "language_info": {
   "codemirror_mode": {
    "name": "ipython",
    "version": 3
   },
   "file_extension": ".py",
   "mimetype": "text/x-python",
   "name": "python",
   "nbconvert_exporter": "python",
   "pygments_lexer": "ipython3",
   "version": "3.7.10"
  }
 },
 "nbformat": 4,
 "nbformat_minor": 5
}
